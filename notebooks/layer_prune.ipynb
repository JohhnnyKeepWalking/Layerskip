{
 "cells": [
  {
   "cell_type": "code",
   "execution_count": 1,
   "metadata": {},
   "outputs": [],
   "source": [
    "! cd /home/jovyan/layer-skip/PruneMe"
   ]
  },
  {
   "cell_type": "code",
   "execution_count": 8,
   "metadata": {},
   "outputs": [
    {
     "name": "stdout",
     "output_type": "stream",
     "text": [
      "/home/jovyan/layer-skip/layer_skip_conda/lib/python3.10/site-packages/transformers/generation/configuration_utils.py:774: UserWarning: `return_dict_in_generate` is NOT set to `True`, but `output_hidden_states` is. When `return_dict_in_generate` is not `True`, `output_hidden_states` is ignored.\n",
      "  warnings.warn(\n",
      "INFO:accelerate.utils.modeling:We will use 90% of the memory on device 0 for storing the model, and 10% for the buffer to avoid OOM. You can set `max_memory` in to a higher value to use more memory (at your own risk).\n",
      "Processing batches: 100%|█████████████████████| 250/250 [00:28<00:00,  8.67it/s]\n",
      "INFO:root:Layer 13 to 14 has the minimum average distance of 0.092594970703125. Consider examining this layer more closely for potential optimization or removal.\n",
      "INFO:root:Layer distances written to layer_distances.csv\n"
     ]
    }
   ],
   "source": [
    "! python compute_block_similarity/layer_similarity.py --model_path \"facebook/layerskip-llama3.2-1B\" \\\n",
    "                      --dataset \"arcee-ai/sec-data-mini\" \\\n",
    "                      --dataset_column \"text\" \\\n",
    "                      --batch_size 16 \\\n",
    "                      --max_length 1024 \\\n",
    "                      --layers_to_skip 1 \\\n",
    "                      --dataset_size 4000 \\\n",
    "                      --dataset_subset \"train\" "
   ]
  },
  {
   "cell_type": "code",
   "execution_count": null,
   "metadata": {},
   "outputs": [],
   "source": []
  },
  {
   "cell_type": "code",
   "execution_count": null,
   "metadata": {},
   "outputs": [],
   "source": []
  }
 ],
 "metadata": {
  "kernelspec": {
   "display_name": "layer_skip_conda",
   "language": "python",
   "name": "python3"
  },
  "language_info": {
   "codemirror_mode": {
    "name": "ipython",
    "version": 3
   },
   "file_extension": ".py",
   "mimetype": "text/x-python",
   "name": "python",
   "nbconvert_exporter": "python",
   "pygments_lexer": "ipython3",
   "version": "3.10.15"
  }
 },
 "nbformat": 4,
 "nbformat_minor": 2
}
