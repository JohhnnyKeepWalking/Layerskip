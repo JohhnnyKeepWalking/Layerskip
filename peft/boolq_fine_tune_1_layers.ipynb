{
 "cells": [
  {
   "cell_type": "code",
   "execution_count": 1,
   "metadata": {},
   "outputs": [
    {
     "name": "stderr",
     "output_type": "stream",
     "text": [
      "/home/jovyan/layer-skip/layer_skip_conda/lib/python3.10/site-packages/tqdm/auto.py:21: TqdmWarning: IProgress not found. Please update jupyter and ipywidgets. See https://ipywidgets.readthedocs.io/en/stable/user_install.html\n",
      "  from .autonotebook import tqdm as notebook_tqdm\n"
     ]
    }
   ],
   "source": [
    "from datasets import load_dataset\n",
    "from transformers import AutoModelForCausalLM, AutoTokenizer, AutoModelForSequenceClassification, TrainerCallback\n",
    "from trl import SFTTrainer, SFTConfig\n",
    "from peft import LoraConfig\n",
    "import torch\n",
    "from transformers import Trainer, TrainingArguments\n",
    "from peft import LoraConfig, get_peft_model\n",
    "from peft.tuners.lora import LoraModel\n",
    "from peft import PeftModel, PeftModelForSequenceClassification\n",
    "\n",
    "from trl import GKDTrainer, GKDConfig"
   ]
  },
  {
   "cell_type": "code",
   "execution_count": 2,
   "metadata": {},
   "outputs": [],
   "source": [
    "boolq_dataset = load_dataset(\"google/boolq\")"
   ]
  },
  {
   "cell_type": "code",
   "execution_count": 3,
   "metadata": {},
   "outputs": [
    {
     "name": "stderr",
     "output_type": "stream",
     "text": [
      "Some weights of LlamaForSequenceClassification were not initialized from the model checkpoint at /home/jovyan/layer-skip/model-checkpoint/layer_skip_1b_pruned_1_layers and are newly initialized: ['score.weight']\n",
      "You should probably TRAIN this model on a down-stream task to be able to use it for predictions and inference.\n"
     ]
    }
   ],
   "source": [
    "model_name = \"/home/jovyan/layer-skip/model-checkpoint/layer_skip_1b_pruned_1_layers\"\n",
    "model = AutoModelForSequenceClassification.from_pretrained(model_name, num_labels=2)\n",
    "tokenizer = AutoTokenizer.from_pretrained(model_name)\n",
    "tokenizer.pad_token = tokenizer.eos_token\n",
    "model.config.pad_token_id = tokenizer.pad_token_id"
   ]
  },
  {
   "cell_type": "code",
   "execution_count": 4,
   "metadata": {},
   "outputs": [],
   "source": [
    "def preprocess_boolq_function(examples):\n",
    "    # Tokenize the questions and passages\n",
    "    inputs = [q + \" \" + p for q, p in zip(examples[\"question\"], examples[\"passage\"])]\n",
    "    model_inputs = tokenizer(inputs, max_length=512, truncation=True, padding=\"max_length\")\n",
    "\n",
    "    # Encode the labels (True -> 1, False -> 0)\n",
    "    labels = [1 if ans else 0 for ans in examples[\"answer\"]]\n",
    "    model_inputs[\"labels\"] = torch.tensor(labels, dtype=torch.long)\n",
    "    return model_inputs\n",
    "tokenized_boolq_datasets = boolq_dataset.map(preprocess_boolq_function, batched=True, remove_columns=[\"question\", \"passage\", \"answer\"])"
   ]
  },
  {
   "cell_type": "code",
   "execution_count": 5,
   "metadata": {},
   "outputs": [
    {
     "data": {
      "text/plain": [
       "LlamaModel(\n",
       "  (embed_tokens): Embedding(128256, 2048)\n",
       "  (layers): ModuleList(\n",
       "    (0-13): 14 x LlamaDecoderLayer(\n",
       "      (self_attn): LlamaSdpaAttention(\n",
       "        (q_proj): Linear(in_features=2048, out_features=2048, bias=False)\n",
       "        (k_proj): Linear(in_features=2048, out_features=512, bias=False)\n",
       "        (v_proj): Linear(in_features=2048, out_features=512, bias=False)\n",
       "        (o_proj): Linear(in_features=2048, out_features=2048, bias=False)\n",
       "        (rotary_emb): LlamaRotaryEmbedding()\n",
       "      )\n",
       "      (mlp): LlamaMLP(\n",
       "        (gate_proj): Linear(in_features=2048, out_features=8192, bias=False)\n",
       "        (up_proj): Linear(in_features=2048, out_features=8192, bias=False)\n",
       "        (down_proj): Linear(in_features=8192, out_features=2048, bias=False)\n",
       "        (act_fn): SiLU()\n",
       "      )\n",
       "      (input_layernorm): LlamaRMSNorm((2048,), eps=1e-05)\n",
       "      (post_attention_layernorm): LlamaRMSNorm((2048,), eps=1e-05)\n",
       "    )\n",
       "  )\n",
       "  (norm): LlamaRMSNorm((2048,), eps=1e-05)\n",
       "  (rotary_emb): LlamaRotaryEmbedding()\n",
       ")"
      ]
     },
     "execution_count": 5,
     "metadata": {},
     "output_type": "execute_result"
    }
   ],
   "source": [
    "model.base_model"
   ]
  },
  {
   "cell_type": "code",
   "execution_count": 6,
   "metadata": {},
   "outputs": [],
   "source": [
    "# lora_config = LoraConfig(\n",
    "#     r=8,\n",
    "#     lora_alpha=32,\n",
    "#     lora_dropout=0.1,\n",
    "#     task_type=\"SEQ_CLS\",\n",
    "#     target_modules=[\"q_proj\", \"v_proj\"]\n",
    "# )\n",
    "# model = get_peft_model(model, lora_config)"
   ]
  },
  {
   "cell_type": "code",
   "execution_count": 10,
   "metadata": {},
   "outputs": [
    {
     "name": "stderr",
     "output_type": "stream",
     "text": [
      "/home/jovyan/layer-skip/layer_skip_conda/lib/python3.10/site-packages/transformers/training_args.py:1568: FutureWarning: `evaluation_strategy` is deprecated and will be removed in version 4.46 of 🤗 Transformers. Use `eval_strategy` instead\n",
      "  warnings.warn(\n",
      "/tmp/ipykernel_209165/1605779611.py:28: FutureWarning: `tokenizer` is deprecated and will be removed in version 5.0.0 for `Trainer.__init__`. Use `processing_class` instead.\n",
      "  trainer = Trainer(\n"
     ]
    },
    {
     "data": {
      "text/html": [
       "\n",
       "    <div>\n",
       "      \n",
       "      <progress value='400' max='940' style='width:300px; height:20px; vertical-align: middle;'></progress>\n",
       "      [400/940 18:32 < 25:08, 0.36 it/s, Epoch 1/4]\n",
       "    </div>\n",
       "    <table border=\"1\" class=\"dataframe\">\n",
       "  <thead>\n",
       " <tr style=\"text-align: left;\">\n",
       "      <th>Step</th>\n",
       "      <th>Training Loss</th>\n",
       "      <th>Validation Loss</th>\n",
       "    </tr>\n",
       "  </thead>\n",
       "  <tbody>\n",
       "    <tr>\n",
       "      <td>200</td>\n",
       "      <td>0.772300</td>\n",
       "      <td>0.661144</td>\n",
       "    </tr>\n",
       "    <tr>\n",
       "      <td>400</td>\n",
       "      <td>0.670700</td>\n",
       "      <td>0.714333</td>\n",
       "    </tr>\n",
       "  </tbody>\n",
       "</table><p>"
      ],
      "text/plain": [
       "<IPython.core.display.HTML object>"
      ]
     },
     "metadata": {},
     "output_type": "display_data"
    },
    {
     "data": {
      "text/plain": [
       "TrainOutput(global_step=400, training_loss=0.798938627243042, metrics={'train_runtime': 1114.3301, 'train_samples_per_second': 33.839, 'train_steps_per_second': 0.844, 'total_flos': 4.18506660642816e+16, 'train_loss': 0.798938627243042, 'epoch': 1.697072549851506})"
      ]
     },
     "execution_count": 10,
     "metadata": {},
     "output_type": "execute_result"
    }
   ],
   "source": [
    "from transformers import EarlyStoppingCallback\n",
    "\n",
    "training_args = TrainingArguments(\n",
    "    output_dir=\"/home/jovyan/layer-skip/model-checkpoint/layer_skip_1b_1_layers_boolq_tuned_regular\",\n",
    "    num_train_epochs=4,                   # Number of epochs\n",
    "    per_device_train_batch_size=4,        # Training batch size\n",
    "    per_device_eval_batch_size=4,         # Evaluation batch size\n",
    "    eval_steps=200,                       # Evaluate every 500 steps\n",
    "    evaluation_strategy=\"steps\",\n",
    "    save_steps=200,                       # Save checkpoints every 500 steps\n",
    "    learning_rate=5e-5,                   # Starting learning rate\n",
    "    warmup_steps=150,                    # Warmup steps\n",
    "    weight_decay=0.3,                    # Weight decay\n",
    "    metric_for_best_model=\"eval_loss\",\n",
    "    lr_scheduler_type=\"polynomial\",\n",
    "    max_grad_norm=1.0,\n",
    "    label_smoothing_factor=0.3,\n",
    "    logging_dir=\"/home/jovyan/layer-skip/logs/layer_skip_1b_1_layers_boolq_tuned\", \n",
    "    logging_steps=50,                     # Log every 50 steps\n",
    "    save_total_limit=3,                   # Save a maximum of 3 checkpoints\n",
    "    fp16=True,                            # Mixed precision\n",
    "    gradient_accumulation_steps=10,        # Accumulate gradients\n",
    "    load_best_model_at_end=True,          # Load best model at end of training\n",
    "    remove_unused_columns=False,\n",
    "    save_strategy=\"steps\"\n",
    ")\n",
    "\n",
    "trainer = Trainer(\n",
    "    model=model,\n",
    "    tokenizer=tokenizer,\n",
    "    train_dataset=tokenized_boolq_datasets['train'],\n",
    "    args=training_args,\n",
    "    eval_dataset=tokenized_boolq_datasets['validation'],\n",
    "    callbacks=[EarlyStoppingCallback(early_stopping_patience=1)]\n",
    ")\n",
    "\n",
    "trainer.train()"
   ]
  },
  {
   "cell_type": "code",
   "execution_count": null,
   "metadata": {},
   "outputs": [],
   "source": []
  }
 ],
 "metadata": {
  "kernelspec": {
   "display_name": "layer_skip_conda",
   "language": "python",
   "name": "python3"
  },
  "language_info": {
   "codemirror_mode": {
    "name": "ipython",
    "version": 3
   },
   "file_extension": ".py",
   "mimetype": "text/x-python",
   "name": "python",
   "nbconvert_exporter": "python",
   "pygments_lexer": "ipython3",
   "version": "3.10.15"
  }
 },
 "nbformat": 4,
 "nbformat_minor": 2
}
