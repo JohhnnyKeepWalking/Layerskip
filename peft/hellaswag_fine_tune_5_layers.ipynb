{
 "cells": [
  {
   "cell_type": "code",
   "execution_count": 1,
   "metadata": {},
   "outputs": [
    {
     "name": "stderr",
     "output_type": "stream",
     "text": [
      "/home/jovyan/layer-skip/layer_skip_conda/lib/python3.10/site-packages/tqdm/auto.py:21: TqdmWarning: IProgress not found. Please update jupyter and ipywidgets. See https://ipywidgets.readthedocs.io/en/stable/user_install.html\n",
      "  from .autonotebook import tqdm as notebook_tqdm\n"
     ]
    }
   ],
   "source": [
    "from datasets import load_dataset\n",
    "from transformers import AutoModelForCausalLM, AutoTokenizer\n",
    "from trl import SFTTrainer, SFTConfig\n",
    "from peft import LoraConfig\n",
    "\n",
    "from trl import GKDTrainer, GKDConfig"
   ]
  },
  {
   "cell_type": "code",
   "execution_count": 2,
   "metadata": {},
   "outputs": [
    {
     "name": "stdout",
     "output_type": "stream",
     "text": [
      "{'ind': 4, 'activity_label': 'Removing ice from car', 'ctx_a': 'Then, the man writes over the snow covering the window of a car, and a woman wearing winter clothes smiles.', 'ctx_b': 'then', 'ctx': 'Then, the man writes over the snow covering the window of a car, and a woman wearing winter clothes smiles. then', 'endings': [', the man adds wax to the windshield and cuts it.', ', a person board a ski lift, while two men supporting the head of the person wearing winter clothes snow as the we girls sled.', ', the man puts on a christmas coat, knitted with netting.', ', the man continues removing the snow on his car.'], 'source_id': 'activitynet~v_-1IBHYS3L-Y', 'split': 'train', 'split_type': 'indomain', 'label': '3', 'input_text': 'Context: Then, the man writes over the snow covering the window of a car, and a woman wearing winter clothes smiles. then Ending:', 'target_text': ', the man continues removing the snow on his car.'}\n"
     ]
    }
   ],
   "source": [
    "dataset = load_dataset(\"Rowan/hellaswag\", split=\"train\")\n",
    "raw_eval_dataset = load_dataset(\"Rowan/hellaswag\", split=\"validation\")\n",
    "\n",
    "def preprocess_sft(example):\n",
    "    context = example[\"ctx\"]\n",
    "    endings = example[\"endings\"]\n",
    "    correct_ending = endings[int(example[\"label\"])]\n",
    "\n",
    "    input_text = f\"Context: {context.strip()} Ending:\"\n",
    "    target_text = correct_ending.strip()\n",
    "\n",
    "    return {\"input_text\": input_text, \"target_text\": target_text}\n",
    "\n",
    "sft_dataset = dataset.map(preprocess_sft)\n",
    "sft_eval_dataset = raw_eval_dataset.map(preprocess_sft)\n",
    "\n",
    "print(sft_dataset[0])"
   ]
  },
  {
   "cell_type": "code",
   "execution_count": 3,
   "metadata": {},
   "outputs": [
    {
     "data": {
      "text/plain": [
       "{'ind': 24,\n",
       " 'activity_label': 'Roof shingle removal',\n",
       " 'ctx_a': 'A man is sitting on a roof.',\n",
       " 'ctx_b': 'he',\n",
       " 'ctx': 'A man is sitting on a roof. he',\n",
       " 'endings': ['is using wrap to wrap a pair of skis.',\n",
       "  'is ripping level tiles off.',\n",
       "  \"is holding a rubik's cube.\",\n",
       "  'starts pulling up roofing on a roof.'],\n",
       " 'source_id': 'activitynet~v_-JhWjGDPHMY',\n",
       " 'split': 'val',\n",
       " 'split_type': 'indomain',\n",
       " 'label': '3',\n",
       " 'input_text': 'Context: A man is sitting on a roof. he Ending:',\n",
       " 'target_text': 'starts pulling up roofing on a roof.'}"
      ]
     },
     "execution_count": 3,
     "metadata": {},
     "output_type": "execute_result"
    }
   ],
   "source": [
    "sft_eval_dataset[0]"
   ]
  },
  {
   "cell_type": "code",
   "execution_count": 5,
   "metadata": {},
   "outputs": [
    {
     "name": "stderr",
     "output_type": "stream",
     "text": [
      "/home/jovyan/layer-skip/layer_skip_conda/lib/python3.10/site-packages/transformers/training_args.py:1568: FutureWarning: `evaluation_strategy` is deprecated and will be removed in version 4.46 of 🤗 Transformers. Use `eval_strategy` instead\n",
      "  warnings.warn(\n",
      "/home/jovyan/layer-skip/layer_skip_conda/lib/python3.10/site-packages/trl/trainer/sft_trainer.py:309: UserWarning: You didn't pass a `max_seq_length` argument to the SFTTrainer, this will default to 1024\n",
      "  warnings.warn(\n",
      "Map: 100%|██████████| 39905/39905 [00:02<00:00, 18853.47 examples/s]\n",
      "Map: 100%|██████████| 10042/10042 [00:00<00:00, 16302.25 examples/s]\n"
     ]
    },
    {
     "data": {
      "text/html": [
       "\n",
       "    <div>\n",
       "      \n",
       "      <progress value='4989' max='4989' style='width:300px; height:20px; vertical-align: middle;'></progress>\n",
       "      [4989/4989 1:13:59, Epoch 1/1]\n",
       "    </div>\n",
       "    <table border=\"1\" class=\"dataframe\">\n",
       "  <thead>\n",
       " <tr style=\"text-align: left;\">\n",
       "      <th>Step</th>\n",
       "      <th>Training Loss</th>\n",
       "      <th>Validation Loss</th>\n",
       "    </tr>\n",
       "  </thead>\n",
       "  <tbody>\n",
       "    <tr>\n",
       "      <td>500</td>\n",
       "      <td>3.305200</td>\n",
       "      <td>2.913358</td>\n",
       "    </tr>\n",
       "    <tr>\n",
       "      <td>1000</td>\n",
       "      <td>2.710000</td>\n",
       "      <td>2.819783</td>\n",
       "    </tr>\n",
       "    <tr>\n",
       "      <td>1500</td>\n",
       "      <td>2.675500</td>\n",
       "      <td>2.781629</td>\n",
       "    </tr>\n",
       "    <tr>\n",
       "      <td>2000</td>\n",
       "      <td>2.629800</td>\n",
       "      <td>2.755430</td>\n",
       "    </tr>\n",
       "    <tr>\n",
       "      <td>2500</td>\n",
       "      <td>2.617600</td>\n",
       "      <td>2.741166</td>\n",
       "    </tr>\n",
       "    <tr>\n",
       "      <td>3000</td>\n",
       "      <td>2.614900</td>\n",
       "      <td>2.729652</td>\n",
       "    </tr>\n",
       "    <tr>\n",
       "      <td>3500</td>\n",
       "      <td>2.591900</td>\n",
       "      <td>2.724007</td>\n",
       "    </tr>\n",
       "    <tr>\n",
       "      <td>4000</td>\n",
       "      <td>2.579700</td>\n",
       "      <td>2.719765</td>\n",
       "    </tr>\n",
       "    <tr>\n",
       "      <td>4500</td>\n",
       "      <td>2.584800</td>\n",
       "      <td>2.715374</td>\n",
       "    </tr>\n",
       "  </tbody>\n",
       "</table><p>"
      ],
      "text/plain": [
       "<IPython.core.display.HTML object>"
      ]
     },
     "metadata": {},
     "output_type": "display_data"
    },
    {
     "data": {
      "text/plain": [
       "TrainOutput(global_step=4989, training_loss=2.6894206071717153, metrics={'train_runtime': 4441.0323, 'train_samples_per_second': 8.986, 'train_steps_per_second': 1.123, 'total_flos': 1.1915801621434368e+16, 'train_loss': 2.6894206071717153, 'epoch': 1.0})"
      ]
     },
     "execution_count": 5,
     "metadata": {},
     "output_type": "execute_result"
    }
   ],
   "source": [
    "model_name = \"/home/jovyan/layer-skip/model-checkpoint/layer_skip_1b_pruned_5_layers\" \n",
    "model = AutoModelForCausalLM.from_pretrained(model_name)\n",
    "tokenizer = AutoTokenizer.from_pretrained(model_name)\n",
    "\n",
    "if tokenizer.pad_token is None:\n",
    "    tokenizer.pad_token = tokenizer.eos_token\n",
    "\n",
    "lora_config = LoraConfig(\n",
    "    task_type=\"CAUSAL_LM\",\n",
    "    r=8,\n",
    "    lora_alpha=32,\n",
    "    lora_dropout=0.1,\n",
    "    inference_mode=False,\n",
    ")\n",
    "\n",
    "training_args = SFTConfig(\n",
    "    output_dir=\"/home/jovyan/layer-skip/model-checkpoint/layer_skip_1b_pruned_5_layers_hellaswag_tuned\",\n",
    "    dataset_text_field=\"input_text\",\n",
    "    num_train_epochs=1,\n",
    "    eval_steps=500,\n",
    "    evaluation_strategy=\"steps\",         \n",
    "    warmup_steps=150,\n",
    ")\n",
    "\n",
    "trainer = SFTTrainer(\n",
    "    model=model,\n",
    "    tokenizer=tokenizer,\n",
    "    train_dataset=sft_dataset,\n",
    "    args=training_args,\n",
    "    peft_config=lora_config,\n",
    "    eval_dataset=sft_eval_dataset\n",
    ")\n",
    "\n",
    "trainer.train()\n"
   ]
  }
 ],
 "metadata": {
  "kernelspec": {
   "display_name": "layer_skip_conda",
   "language": "python",
   "name": "python3"
  },
  "language_info": {
   "codemirror_mode": {
    "name": "ipython",
    "version": 3
   },
   "file_extension": ".py",
   "mimetype": "text/x-python",
   "name": "python",
   "nbconvert_exporter": "python",
   "pygments_lexer": "ipython3",
   "version": "3.10.15"
  }
 },
 "nbformat": 4,
 "nbformat_minor": 2
}
