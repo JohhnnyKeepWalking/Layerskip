{
 "cells": [
  {
   "cell_type": "code",
   "execution_count": 1,
   "metadata": {},
   "outputs": [
    {
     "name": "stderr",
     "output_type": "stream",
     "text": [
      "/home/jovyan/layer-skip/layer_skip_conda/lib/python3.10/site-packages/tqdm/auto.py:21: TqdmWarning: IProgress not found. Please update jupyter and ipywidgets. See https://ipywidgets.readthedocs.io/en/stable/user_install.html\n",
      "  from .autonotebook import tqdm as notebook_tqdm\n"
     ]
    }
   ],
   "source": [
    "from datasets import load_dataset\n",
    "from transformers import AutoModelForCausalLM, AutoTokenizer\n",
    "from trl import SFTTrainer, SFTConfig\n",
    "from peft import LoraConfig\n",
    "\n",
    "from trl import GKDTrainer, GKDConfig"
   ]
  },
  {
   "cell_type": "code",
   "execution_count": 2,
   "metadata": {},
   "outputs": [
    {
     "name": "stdout",
     "output_type": "stream",
     "text": [
      "{'ind': 4, 'activity_label': 'Removing ice from car', 'ctx_a': 'Then, the man writes over the snow covering the window of a car, and a woman wearing winter clothes smiles.', 'ctx_b': 'then', 'ctx': 'Then, the man writes over the snow covering the window of a car, and a woman wearing winter clothes smiles. then', 'endings': [', the man adds wax to the windshield and cuts it.', ', a person board a ski lift, while two men supporting the head of the person wearing winter clothes snow as the we girls sled.', ', the man puts on a christmas coat, knitted with netting.', ', the man continues removing the snow on his car.'], 'source_id': 'activitynet~v_-1IBHYS3L-Y', 'split': 'train', 'split_type': 'indomain', 'label': '3', 'input_text': 'Context: Then, the man writes over the snow covering the window of a car, and a woman wearing winter clothes smiles. then Ending:', 'target_text': ', the man continues removing the snow on his car.'}\n"
     ]
    }
   ],
   "source": [
    "dataset = load_dataset(\"Rowan/hellaswag\", split=\"train\")\n",
    "raw_eval_dataset = load_dataset(\"Rowan/hellaswag\", split=\"validation\")\n",
    "\n",
    "def preprocess_sft(example):\n",
    "    context = example[\"ctx\"]\n",
    "    endings = example[\"endings\"]\n",
    "    correct_ending = endings[int(example[\"label\"])]\n",
    "\n",
    "    input_text = f\"Context: {context.strip()} Ending:\"\n",
    "    target_text = correct_ending.strip()\n",
    "\n",
    "    return {\"input_text\": input_text, \"target_text\": target_text}\n",
    "\n",
    "sft_dataset = dataset.map(preprocess_sft)\n",
    "sft_eval_dataset = raw_eval_dataset.map(preprocess_sft)\n",
    "\n",
    "print(sft_dataset[0])"
   ]
  },
  {
   "cell_type": "code",
   "execution_count": 3,
   "metadata": {},
   "outputs": [
    {
     "data": {
      "text/plain": [
       "{'ind': 24,\n",
       " 'activity_label': 'Roof shingle removal',\n",
       " 'ctx_a': 'A man is sitting on a roof.',\n",
       " 'ctx_b': 'he',\n",
       " 'ctx': 'A man is sitting on a roof. he',\n",
       " 'endings': ['is using wrap to wrap a pair of skis.',\n",
       "  'is ripping level tiles off.',\n",
       "  \"is holding a rubik's cube.\",\n",
       "  'starts pulling up roofing on a roof.'],\n",
       " 'source_id': 'activitynet~v_-JhWjGDPHMY',\n",
       " 'split': 'val',\n",
       " 'split_type': 'indomain',\n",
       " 'label': '3',\n",
       " 'input_text': 'Context: A man is sitting on a roof. he Ending:',\n",
       " 'target_text': 'starts pulling up roofing on a roof.'}"
      ]
     },
     "execution_count": 3,
     "metadata": {},
     "output_type": "execute_result"
    }
   ],
   "source": [
    "sft_eval_dataset[0]"
   ]
  },
  {
   "cell_type": "code",
   "execution_count": 5,
   "metadata": {},
   "outputs": [
    {
     "name": "stderr",
     "output_type": "stream",
     "text": [
      "/home/jovyan/layer-skip/layer_skip_conda/lib/python3.10/site-packages/transformers/training_args.py:1568: FutureWarning: `evaluation_strategy` is deprecated and will be removed in version 4.46 of 🤗 Transformers. Use `eval_strategy` instead\n",
      "  warnings.warn(\n",
      "/home/jovyan/layer-skip/layer_skip_conda/lib/python3.10/site-packages/trl/trainer/sft_trainer.py:309: UserWarning: You didn't pass a `max_seq_length` argument to the SFTTrainer, this will default to 1024\n",
      "  warnings.warn(\n",
      "Map: 100%|██████████| 39905/39905 [00:01<00:00, 20561.15 examples/s]\n",
      "Map: 100%|██████████| 10042/10042 [00:00<00:00, 21589.59 examples/s]\n"
     ]
    },
    {
     "data": {
      "text/html": [
       "\n",
       "    <div>\n",
       "      \n",
       "      <progress value='4989' max='4989' style='width:300px; height:20px; vertical-align: middle;'></progress>\n",
       "      [4989/4989 2:31:09, Epoch 1/1]\n",
       "    </div>\n",
       "    <table border=\"1\" class=\"dataframe\">\n",
       "  <thead>\n",
       " <tr style=\"text-align: left;\">\n",
       "      <th>Step</th>\n",
       "      <th>Training Loss</th>\n",
       "      <th>Validation Loss</th>\n",
       "    </tr>\n",
       "  </thead>\n",
       "  <tbody>\n",
       "    <tr>\n",
       "      <td>500</td>\n",
       "      <td>2.969900</td>\n",
       "      <td>2.668448</td>\n",
       "    </tr>\n",
       "    <tr>\n",
       "      <td>1000</td>\n",
       "      <td>2.485600</td>\n",
       "      <td>2.600171</td>\n",
       "    </tr>\n",
       "    <tr>\n",
       "      <td>1500</td>\n",
       "      <td>2.460200</td>\n",
       "      <td>2.571829</td>\n",
       "    </tr>\n",
       "    <tr>\n",
       "      <td>2000</td>\n",
       "      <td>2.425300</td>\n",
       "      <td>2.557512</td>\n",
       "    </tr>\n",
       "    <tr>\n",
       "      <td>2500</td>\n",
       "      <td>2.418100</td>\n",
       "      <td>2.546810</td>\n",
       "    </tr>\n",
       "    <tr>\n",
       "      <td>3000</td>\n",
       "      <td>2.418600</td>\n",
       "      <td>2.535969</td>\n",
       "    </tr>\n",
       "    <tr>\n",
       "      <td>3500</td>\n",
       "      <td>2.395500</td>\n",
       "      <td>2.530508</td>\n",
       "    </tr>\n",
       "    <tr>\n",
       "      <td>4000</td>\n",
       "      <td>2.386700</td>\n",
       "      <td>2.525476</td>\n",
       "    </tr>\n",
       "    <tr>\n",
       "      <td>4500</td>\n",
       "      <td>2.387500</td>\n",
       "      <td>2.520706</td>\n",
       "    </tr>\n",
       "  </tbody>\n",
       "</table><p>"
      ],
      "text/plain": [
       "<IPython.core.display.HTML object>"
      ]
     },
     "metadata": {},
     "output_type": "display_data"
    },
    {
     "data": {
      "text/plain": [
       "TrainOutput(global_step=4989, training_loss=2.4734934923237373, metrics={'train_runtime': 9071.3149, 'train_samples_per_second': 4.399, 'train_steps_per_second': 0.55, 'total_flos': 1.4298953928118272e+16, 'train_loss': 2.4734934923237373, 'epoch': 1.0})"
      ]
     },
     "execution_count": 5,
     "metadata": {},
     "output_type": "execute_result"
    }
   ],
   "source": [
    "model_name = \"/home/jovyan/layer-skip/model-checkpoint/layer_skip_1b_pruned_3_layers\" \n",
    "model = AutoModelForCausalLM.from_pretrained(model_name)\n",
    "tokenizer = AutoTokenizer.from_pretrained(model_name)\n",
    "\n",
    "if tokenizer.pad_token is None:\n",
    "    tokenizer.pad_token = tokenizer.eos_token\n",
    "\n",
    "lora_config = LoraConfig(\n",
    "    task_type=\"CAUSAL_LM\",\n",
    "    r=8,\n",
    "    lora_alpha=32,\n",
    "    lora_dropout=0.1,\n",
    "    inference_mode=False,\n",
    ")\n",
    "\n",
    "training_args = SFTConfig(\n",
    "    output_dir=\"/home/jovyan/layer-skip/model-checkpoint/layer_skip_1b_pruned_3_layers_hellaswag_tuned_new\",\n",
    "    dataset_text_field=\"input_text\",\n",
    "    num_train_epochs=1,\n",
    "    eval_steps=500,\n",
    "    evaluation_strategy=\"steps\",\n",
    "    warmup_steps=150\n",
    ")\n",
    "\n",
    "trainer = SFTTrainer(\n",
    "    model=model,\n",
    "    tokenizer=tokenizer,\n",
    "    train_dataset=sft_dataset,\n",
    "    args=training_args,\n",
    "    peft_config=lora_config,\n",
    "    eval_dataset=sft_eval_dataset\n",
    ")\n",
    "\n",
    "trainer.train()"
   ]
  },
  {
   "cell_type": "markdown",
   "metadata": {},
   "source": [
    "# GKD Fine Tune"
   ]
  },
  {
   "cell_type": "code",
   "execution_count": 13,
   "metadata": {},
   "outputs": [
    {
     "data": {
      "text/plain": [
       "{'messages': [{'content': 'Context: Then, the man writes over the snow covering the window of a car, and a woman wearing winter clothes smiles. then Ending:',\n",
       "   'role': 'user'},\n",
       "  {'content': ', the man continues removing the snow on his car.',\n",
       "   'role': 'assistant'}]}"
      ]
     },
     "execution_count": 13,
     "metadata": {},
     "output_type": "execute_result"
    }
   ],
   "source": [
    "teacher_model_name = \"facebook/layerskip-llama3.2-1B\"\n",
    "student_model_name = \"/home/jovyan/layer-skip/model-checkpoint/layer_skip_1b_pruned\"\n",
    "\n",
    "teacher_model = AutoModelForCausalLM.from_pretrained(teacher_model_name)\n",
    "student_model = AutoModelForCausalLM.from_pretrained(student_model_name)\n",
    "\n",
    "teacher_tokenizer = AutoTokenizer.from_pretrained(teacher_model_name)\n",
    "student_tokenizer = AutoTokenizer.from_pretrained(student_model_name)\n",
    "\n",
    "if teacher_tokenizer.pad_token is None:\n",
    "    teacher_tokenizer.pad_token = teacher_tokenizer.eos_token\n",
    "if student_tokenizer.pad_token is None:\n",
    "    student_tokenizer.pad_token = student_tokenizer.eos_token\n",
    "\n",
    "\n",
    "dataset = load_dataset(\"Rowan/hellaswag\", split=\"train\")\n",
    "eval_dataset = load_dataset(\"Rowan/hellaswag\", split=\"validation\")\n",
    "\n",
    "chat_template = \"\"\"\n",
    "<|system|>{% for message in conversation if message.role == 'system' %}\n",
    "{{ message.content }}\n",
    "{% endfor %}\n",
    "<|user|>{% for message in conversation if message.role == 'user' %}\n",
    "{{ message.content }}\n",
    "{% endfor %}\n",
    "<|assistant|>{% for message in conversation if message.role == 'assistant' %}\n",
    "{{ message.content }}\n",
    "{% endfor %}\n",
    "\"\"\"\n",
    "student_tokenizer.chat_template = chat_template\n",
    "\n",
    "def preprocess_dataset(example):\n",
    "    context = example[\"ctx\"]\n",
    "    endings = example[\"endings\"]\n",
    "    correct_ending = endings[int(example[\"label\"])]\n",
    "    \n",
    "    return {\n",
    "        \"messages\": [\n",
    "            {\"role\": \"user\", \"content\": f\"Context: {context.strip()} Ending:\"},\n",
    "            {\"role\": \"assistant\", \"content\": correct_ending.strip()}\n",
    "        ]\n",
    "    }\n",
    "\n",
    "preprocessed_dataset = dataset.map(preprocess_dataset, remove_columns=dataset.column_names)\n",
    "gkd_eval_dataset = eval_dataset.map(preprocess_dataset, remove_columns=dataset.column_names)\n",
    "preprocessed_dataset[0]"
   ]
  },
  {
   "cell_type": "code",
   "execution_count": 14,
   "metadata": {},
   "outputs": [
    {
     "data": {
      "text/plain": [
       "{'messages': [{'content': 'Context: A man is sitting on a roof. he Ending:',\n",
       "   'role': 'user'},\n",
       "  {'content': 'starts pulling up roofing on a roof.', 'role': 'assistant'}]}"
      ]
     },
     "execution_count": 14,
     "metadata": {},
     "output_type": "execute_result"
    }
   ],
   "source": [
    "gkd_eval_dataset[0]"
   ]
  },
  {
   "cell_type": "code",
   "execution_count": 15,
   "metadata": {},
   "outputs": [
    {
     "name": "stderr",
     "output_type": "stream",
     "text": [
      "/home/jovyan/layer-skip/layer_skip_conda/lib/python3.10/site-packages/transformers/training_args.py:1568: FutureWarning: `evaluation_strategy` is deprecated and will be removed in version 4.46 of 🤗 Transformers. Use `eval_strategy` instead\n",
      "  warnings.warn(\n",
      "/home/jovyan/layer-skip/layer_skip_conda/lib/python3.10/site-packages/trl/trainer/sft_trainer.py:309: UserWarning: You didn't pass a `max_seq_length` argument to the SFTTrainer, this will default to 1024\n",
      "  warnings.warn(\n",
      "/home/jovyan/layer-skip/layer_skip_conda/lib/python3.10/site-packages/trl/trainer/sft_trainer.py:537: UserWarning: You passed `remove_unused_columns=False` on a non-packed dataset. This might create some issues with the default collator and yield to errors. If you want to inspect dataset other columns (in this case ['messages']), you can subclass `DataCollatorForLanguageModeling` in case you used the default collator and create your own data collator in order to inspect the unused dataset columns.\n",
      "  warnings.warn(\n",
      "Map: 100%|██████████| 39905/39905 [00:02<00:00, 14700.93 examples/s]\n",
      "Map: 100%|██████████| 10042/10042 [00:00<00:00, 16347.02 examples/s]\n"
     ]
    },
    {
     "data": {
      "text/html": [
       "\n",
       "    <div>\n",
       "      \n",
       "      <progress value='4989' max='4989' style='width:300px; height:20px; vertical-align: middle;'></progress>\n",
       "      [4989/4989 3:00:54, Epoch 1/1]\n",
       "    </div>\n",
       "    <table border=\"1\" class=\"dataframe\">\n",
       "  <thead>\n",
       " <tr style=\"text-align: left;\">\n",
       "      <th>Step</th>\n",
       "      <th>Training Loss</th>\n",
       "      <th>Validation Loss</th>\n",
       "    </tr>\n",
       "  </thead>\n",
       "  <tbody>\n",
       "    <tr>\n",
       "      <td>500</td>\n",
       "      <td>0.047500</td>\n",
       "      <td>nan</td>\n",
       "    </tr>\n",
       "    <tr>\n",
       "      <td>1000</td>\n",
       "      <td>0.039600</td>\n",
       "      <td>nan</td>\n",
       "    </tr>\n",
       "    <tr>\n",
       "      <td>1500</td>\n",
       "      <td>0.038100</td>\n",
       "      <td>nan</td>\n",
       "    </tr>\n",
       "    <tr>\n",
       "      <td>2000</td>\n",
       "      <td>0.033700</td>\n",
       "      <td>nan</td>\n",
       "    </tr>\n",
       "    <tr>\n",
       "      <td>2500</td>\n",
       "      <td>0.034900</td>\n",
       "      <td>nan</td>\n",
       "    </tr>\n",
       "    <tr>\n",
       "      <td>3000</td>\n",
       "      <td>0.031800</td>\n",
       "      <td>nan</td>\n",
       "    </tr>\n",
       "    <tr>\n",
       "      <td>3500</td>\n",
       "      <td>0.030200</td>\n",
       "      <td>nan</td>\n",
       "    </tr>\n",
       "    <tr>\n",
       "      <td>4000</td>\n",
       "      <td>0.029100</td>\n",
       "      <td>nan</td>\n",
       "    </tr>\n",
       "    <tr>\n",
       "      <td>4500</td>\n",
       "      <td>0.027700</td>\n",
       "      <td>nan</td>\n",
       "    </tr>\n",
       "  </tbody>\n",
       "</table><p>"
      ],
      "text/plain": [
       "<IPython.core.display.HTML object>"
      ]
     },
     "metadata": {},
     "output_type": "display_data"
    },
    {
     "name": "stderr",
     "output_type": "stream",
     "text": [
      "From v4.47 onwards, when a model cache is to be returned, `generate` will return a `Cache` instance instead by default (as opposed to the legacy tuple of tuples format). If you want to keep returning the legacy format, please set `return_legacy_cache=True`.\n"
     ]
    },
    {
     "data": {
      "text/plain": [
       "TrainOutput(global_step=4989, training_loss=0.03391021304915247, metrics={'train_runtime': 10856.0003, 'train_samples_per_second': 3.676, 'train_steps_per_second': 0.46, 'total_flos': 1.3513660379799552e+16, 'train_loss': 0.03391021304915247, 'epoch': 1.0})"
      ]
     },
     "execution_count": 15,
     "metadata": {},
     "output_type": "execute_result"
    }
   ],
   "source": [
    "\n",
    "gkd_config = GKDConfig(\n",
    "    output_dir=\"/home/jovyan/layer-skip/model-checkpoint/layer_skip_1b_tuned_gkd\",\n",
    "    num_train_epochs=1,\n",
    "    eval_steps=500,\n",
    "    evaluation_strategy=\"steps\"\n",
    ")\n",
    "\n",
    "trainer = GKDTrainer(\n",
    "    model=student_model,\n",
    "    teacher_model=teacher_model,\n",
    "    processing_class=student_tokenizer,\n",
    "    train_dataset=preprocessed_dataset,\n",
    "    args=gkd_config,\n",
    "    eval_dataset=gkd_eval_dataset\n",
    ")\n",
    "\n",
    "trainer.train()\n"
   ]
  }
 ],
 "metadata": {
  "kernelspec": {
   "display_name": "layer_skip_conda",
   "language": "python",
   "name": "python3"
  },
  "language_info": {
   "codemirror_mode": {
    "name": "ipython",
    "version": 3
   },
   "file_extension": ".py",
   "mimetype": "text/x-python",
   "name": "python",
   "nbconvert_exporter": "python",
   "pygments_lexer": "ipython3",
   "version": "3.10.15"
  }
 },
 "nbformat": 4,
 "nbformat_minor": 2
}
